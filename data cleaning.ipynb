{
 "cells": [
  {
   "cell_type": "code",
   "execution_count": 142,
   "id": "e7dff957",
   "metadata": {},
   "outputs": [],
   "source": [
    "import numpy as np\n",
    "import pandas as pd"
   ]
  },
  {
   "cell_type": "code",
   "execution_count": 143,
   "id": "27980816",
   "metadata": {},
   "outputs": [
    {
     "name": "stdout",
     "output_type": "stream",
     "text": [
      "         ID  Year_Birth   Education Marital_Status   Income  Kidhome  \\\n",
      "0      5524        1957  Graduation         Single  58138.0        0   \n",
      "1      2174        1954  Graduation         Single  46344.0        1   \n",
      "2      4141        1965  Graduation       Together  71613.0        0   \n",
      "3      6182        1984  Graduation       Together  26646.0        1   \n",
      "4      5324        1981         PhD        Married  58293.0        1   \n",
      "...     ...         ...         ...            ...      ...      ...   \n",
      "2235  10870        1967  Graduation        Married  61223.0        0   \n",
      "2236   4001        1946         PhD       Together  64014.0        2   \n",
      "2237   7270        1981  Graduation       Divorced  56981.0        0   \n",
      "2238   8235        1956      Master       Together  69245.0        0   \n",
      "2239   9405        1954         PhD        Married  52869.0        1   \n",
      "\n",
      "      Teenhome Dt_Customer  Recency  MntWines  ...  NumWebVisitsMonth  \\\n",
      "0            0  04-09-2012       58       635  ...                  7   \n",
      "1            1  08-03-2014       38        11  ...                  5   \n",
      "2            0  21-08-2013       26       426  ...                  4   \n",
      "3            0  10-02-2014       26        11  ...                  6   \n",
      "4            0  19-01-2014       94       173  ...                  5   \n",
      "...        ...         ...      ...       ...  ...                ...   \n",
      "2235         1  13-06-2013       46       709  ...                  5   \n",
      "2236         1  10-06-2014       56       406  ...                  7   \n",
      "2237         0  25-01-2014       91       908  ...                  6   \n",
      "2238         1  24-01-2014        8       428  ...                  3   \n",
      "2239         1  15-10-2012       40        84  ...                  7   \n",
      "\n",
      "      AcceptedCmp3  AcceptedCmp4  AcceptedCmp5  AcceptedCmp1  AcceptedCmp2  \\\n",
      "0                0             0             0             0             0   \n",
      "1                0             0             0             0             0   \n",
      "2                0             0             0             0             0   \n",
      "3                0             0             0             0             0   \n",
      "4                0             0             0             0             0   \n",
      "...            ...           ...           ...           ...           ...   \n",
      "2235             0             0             0             0             0   \n",
      "2236             0             0             0             1             0   \n",
      "2237             0             1             0             0             0   \n",
      "2238             0             0             0             0             0   \n",
      "2239             0             0             0             0             0   \n",
      "\n",
      "      Complain  Z_CostContact  Z_Revenue  Response  \n",
      "0            0              3         11         1  \n",
      "1            0              3         11         0  \n",
      "2            0              3         11         0  \n",
      "3            0              3         11         0  \n",
      "4            0              3         11         0  \n",
      "...        ...            ...        ...       ...  \n",
      "2235         0              3         11         0  \n",
      "2236         0              3         11         0  \n",
      "2237         0              3         11         0  \n",
      "2238         0              3         11         0  \n",
      "2239         0              3         11         1  \n",
      "\n",
      "[2240 rows x 29 columns]\n"
     ]
    }
   ],
   "source": [
    "df=pd.read_csv(r'C:\\Users\\nikun\\Desktop\\archive\\marketing_campaign.csv',delimiter='\\t')\n",
    "print(df)"
   ]
  },
  {
   "cell_type": "code",
   "execution_count": 144,
   "id": "bf7453fd",
   "metadata": {},
   "outputs": [
    {
     "name": "stdout",
     "output_type": "stream",
     "text": [
      "<class 'pandas.core.frame.DataFrame'>\n",
      "RangeIndex: 2240 entries, 0 to 2239\n",
      "Data columns (total 29 columns):\n",
      " #   Column               Non-Null Count  Dtype  \n",
      "---  ------               --------------  -----  \n",
      " 0   ID                   2240 non-null   int64  \n",
      " 1   Year_Birth           2240 non-null   int64  \n",
      " 2   Education            2240 non-null   object \n",
      " 3   Marital_Status       2240 non-null   object \n",
      " 4   Income               2216 non-null   float64\n",
      " 5   Kidhome              2240 non-null   int64  \n",
      " 6   Teenhome             2240 non-null   int64  \n",
      " 7   Dt_Customer          2240 non-null   object \n",
      " 8   Recency              2240 non-null   int64  \n",
      " 9   MntWines             2240 non-null   int64  \n",
      " 10  MntFruits            2240 non-null   int64  \n",
      " 11  MntMeatProducts      2240 non-null   int64  \n",
      " 12  MntFishProducts      2240 non-null   int64  \n",
      " 13  MntSweetProducts     2240 non-null   int64  \n",
      " 14  MntGoldProds         2240 non-null   int64  \n",
      " 15  NumDealsPurchases    2240 non-null   int64  \n",
      " 16  NumWebPurchases      2240 non-null   int64  \n",
      " 17  NumCatalogPurchases  2240 non-null   int64  \n",
      " 18  NumStorePurchases    2240 non-null   int64  \n",
      " 19  NumWebVisitsMonth    2240 non-null   int64  \n",
      " 20  AcceptedCmp3         2240 non-null   int64  \n",
      " 21  AcceptedCmp4         2240 non-null   int64  \n",
      " 22  AcceptedCmp5         2240 non-null   int64  \n",
      " 23  AcceptedCmp1         2240 non-null   int64  \n",
      " 24  AcceptedCmp2         2240 non-null   int64  \n",
      " 25  Complain             2240 non-null   int64  \n",
      " 26  Z_CostContact        2240 non-null   int64  \n",
      " 27  Z_Revenue            2240 non-null   int64  \n",
      " 28  Response             2240 non-null   int64  \n",
      "dtypes: float64(1), int64(25), object(3)\n",
      "memory usage: 507.6+ KB\n",
      "None\n"
     ]
    }
   ],
   "source": [
    "print(df.info())"
   ]
  },
  {
   "cell_type": "code",
   "execution_count": 145,
   "id": "43a14b59",
   "metadata": {},
   "outputs": [
    {
     "data": {
      "text/plain": [
       "Index(['ID', 'Year_Birth', 'Education', 'Marital_Status', 'Income', 'Kidhome',\n",
       "       'Teenhome', 'Dt_Customer', 'Recency', 'MntWines', 'MntFruits',\n",
       "       'MntMeatProducts', 'MntFishProducts', 'MntSweetProducts',\n",
       "       'MntGoldProds', 'NumDealsPurchases', 'NumWebPurchases',\n",
       "       'NumCatalogPurchases', 'NumStorePurchases', 'NumWebVisitsMonth',\n",
       "       'AcceptedCmp3', 'AcceptedCmp4', 'AcceptedCmp5', 'AcceptedCmp1',\n",
       "       'AcceptedCmp2', 'Complain', 'Z_CostContact', 'Z_Revenue', 'Response'],\n",
       "      dtype='object')"
      ]
     },
     "execution_count": 145,
     "metadata": {},
     "output_type": "execute_result"
    }
   ],
   "source": [
    "df.columns\n"
   ]
  },
  {
   "cell_type": "code",
   "execution_count": 146,
   "id": "58862d51",
   "metadata": {},
   "outputs": [],
   "source": [
    "#col = ['Year_Birth', 'Education', 'Marital_Status', 'Income', 'NumDealsPurchases', 'NumWebPurchases', 'NumCatalogPurchases', 'NumStorePurchases', 'NumWebVisitsMonth']\n",
    "#df=df[col]"
   ]
  },
  {
   "cell_type": "code",
   "execution_count": 147,
   "id": "2c5f889d",
   "metadata": {},
   "outputs": [],
   "source": [
    "df=df.dropna()\n"
   ]
  },
  {
   "cell_type": "code",
   "execution_count": 148,
   "id": "e17e01de",
   "metadata": {},
   "outputs": [
    {
     "name": "stdout",
     "output_type": "stream",
     "text": [
      "<class 'pandas.core.frame.DataFrame'>\n",
      "Index: 2216 entries, 0 to 2239\n",
      "Data columns (total 29 columns):\n",
      " #   Column               Non-Null Count  Dtype  \n",
      "---  ------               --------------  -----  \n",
      " 0   ID                   2216 non-null   int64  \n",
      " 1   Year_Birth           2216 non-null   int64  \n",
      " 2   Education            2216 non-null   object \n",
      " 3   Marital_Status       2216 non-null   object \n",
      " 4   Income               2216 non-null   float64\n",
      " 5   Kidhome              2216 non-null   int64  \n",
      " 6   Teenhome             2216 non-null   int64  \n",
      " 7   Dt_Customer          2216 non-null   object \n",
      " 8   Recency              2216 non-null   int64  \n",
      " 9   MntWines             2216 non-null   int64  \n",
      " 10  MntFruits            2216 non-null   int64  \n",
      " 11  MntMeatProducts      2216 non-null   int64  \n",
      " 12  MntFishProducts      2216 non-null   int64  \n",
      " 13  MntSweetProducts     2216 non-null   int64  \n",
      " 14  MntGoldProds         2216 non-null   int64  \n",
      " 15  NumDealsPurchases    2216 non-null   int64  \n",
      " 16  NumWebPurchases      2216 non-null   int64  \n",
      " 17  NumCatalogPurchases  2216 non-null   int64  \n",
      " 18  NumStorePurchases    2216 non-null   int64  \n",
      " 19  NumWebVisitsMonth    2216 non-null   int64  \n",
      " 20  AcceptedCmp3         2216 non-null   int64  \n",
      " 21  AcceptedCmp4         2216 non-null   int64  \n",
      " 22  AcceptedCmp5         2216 non-null   int64  \n",
      " 23  AcceptedCmp1         2216 non-null   int64  \n",
      " 24  AcceptedCmp2         2216 non-null   int64  \n",
      " 25  Complain             2216 non-null   int64  \n",
      " 26  Z_CostContact        2216 non-null   int64  \n",
      " 27  Z_Revenue            2216 non-null   int64  \n",
      " 28  Response             2216 non-null   int64  \n",
      "dtypes: float64(1), int64(25), object(3)\n",
      "memory usage: 519.4+ KB\n",
      "None\n"
     ]
    }
   ],
   "source": [
    "print(df.info())"
   ]
  },
  {
   "cell_type": "code",
   "execution_count": 150,
   "id": "5922af67",
   "metadata": {},
   "outputs": [
    {
     "name": "stdout",
     "output_type": "stream",
     "text": [
      "<class 'pandas.core.frame.DataFrame'>\n",
      "Index: 2216 entries, 0 to 2239\n",
      "Data columns (total 29 columns):\n",
      " #   Column               Non-Null Count  Dtype  \n",
      "---  ------               --------------  -----  \n",
      " 0   ID                   2216 non-null   int64  \n",
      " 1   Year_Birth           2216 non-null   int64  \n",
      " 2   Education            2216 non-null   object \n",
      " 3   Marital_Status       2216 non-null   object \n",
      " 4   Income               2216 non-null   float64\n",
      " 5   Kidhome              2216 non-null   int64  \n",
      " 6   Teenhome             2216 non-null   int64  \n",
      " 7   Dt_Customer          2216 non-null   object \n",
      " 8   Recency              2216 non-null   int64  \n",
      " 9   MntWines             2216 non-null   int64  \n",
      " 10  MntFruits            2216 non-null   int64  \n",
      " 11  MntMeatProducts      2216 non-null   int64  \n",
      " 12  MntFishProducts      2216 non-null   int64  \n",
      " 13  MntSweetProducts     2216 non-null   int64  \n",
      " 14  MntGoldProds         2216 non-null   int64  \n",
      " 15  NumDealsPurchases    2216 non-null   int64  \n",
      " 16  NumWebPurchases      2216 non-null   int64  \n",
      " 17  NumCatalogPurchases  2216 non-null   int64  \n",
      " 18  NumStorePurchases    2216 non-null   int64  \n",
      " 19  NumWebVisitsMonth    2216 non-null   int64  \n",
      " 20  AcceptedCmp3         2216 non-null   int64  \n",
      " 21  AcceptedCmp4         2216 non-null   int64  \n",
      " 22  AcceptedCmp5         2216 non-null   int64  \n",
      " 23  AcceptedCmp1         2216 non-null   int64  \n",
      " 24  AcceptedCmp2         2216 non-null   int64  \n",
      " 25  Complain             2216 non-null   int64  \n",
      " 26  Z_CostContact        2216 non-null   int64  \n",
      " 27  Z_Revenue            2216 non-null   int64  \n",
      " 28  Response             2216 non-null   int64  \n",
      "dtypes: float64(1), int64(25), object(3)\n",
      "memory usage: 519.4+ KB\n",
      "None\n"
     ]
    }
   ],
   "source": [
    "df=df.drop_duplicates()\n",
    "print(df.info())"
   ]
  },
  {
   "cell_type": "code",
   "execution_count": 152,
   "id": "b5bc7998",
   "metadata": {},
   "outputs": [
    {
     "name": "stdout",
     "output_type": "stream",
     "text": [
      "Index(['id', 'year_birth', 'education', 'marital_status', 'income', 'kidhome',\n",
      "       'teenhome', 'dt_customer', 'recency', 'mntwines', 'mntfruits',\n",
      "       'mntmeatproducts', 'mntfishproducts', 'mntsweetproducts',\n",
      "       'mntgoldprods', 'numdealspurchases', 'numwebpurchases',\n",
      "       'numcatalogpurchases', 'numstorepurchases', 'numwebvisitsmonth',\n",
      "       'acceptedcmp3', 'acceptedcmp4', 'acceptedcmp5', 'acceptedcmp1',\n",
      "       'acceptedcmp2', 'complain', 'z_costcontact', 'z_revenue', 'response'],\n",
      "      dtype='object')\n",
      "Index(['id', 'year_birth', 'education', 'marital_status', 'income', 'kidhome',\n",
      "       'teenhome', 'dt_customer', 'recency', 'mntwines', 'mntfruits',\n",
      "       'mntmeatproducts', 'mntfishproducts', 'mntsweetproducts',\n",
      "       'mntgoldprods', 'numdealspurchases', 'numwebpurchases',\n",
      "       'numcatalogpurchases', 'numstorepurchases', 'numwebvisitsmonth',\n",
      "       'acceptedcmp3', 'acceptedcmp4', 'acceptedcmp5', 'acceptedcmp1',\n",
      "       'acceptedcmp2', 'complain', 'z_costcontact', 'z_revenue', 'response'],\n",
      "      dtype='object')\n"
     ]
    }
   ],
   "source": [
    "\n",
    "print(df.columns)\n",
    "\n",
    "df.columns = df.columns.str.lower().str.replace(' ', '_')\n",
    "print(df.columns)\n"
   ]
  }
 ],
 "metadata": {
  "kernelspec": {
   "display_name": "Python 3",
   "language": "python",
   "name": "python3"
  },
  "language_info": {
   "codemirror_mode": {
    "name": "ipython",
    "version": 3
   },
   "file_extension": ".py",
   "mimetype": "text/x-python",
   "name": "python",
   "nbconvert_exporter": "python",
   "pygments_lexer": "ipython3",
   "version": "3.10.7"
  }
 },
 "nbformat": 4,
 "nbformat_minor": 5
}
